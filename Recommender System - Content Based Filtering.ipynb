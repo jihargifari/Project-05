{
 "cells": [
  {
   "cell_type": "code",
   "execution_count": 1,
   "metadata": {},
   "outputs": [],
   "source": [
    "import pandas as pd\n",
    "import numpy as np\n",
    "\n",
    "from sklearn.feature_extraction.text import CountVectorizer\n",
    "from sklearn.metrics.pairwise import cosine_similarity"
   ]
  },
  {
   "cell_type": "markdown",
   "metadata": {},
   "source": [
    "## Simple Recommender System Tutorial #1 : 2nd Class Recommendation\n",
    "In this first example, we are going to build a very simple recommender system for a student who already enroll a class at shift academy before, and we are going to recommend them a 2nd class based on the similarity of what they learn"
   ]
  },
  {
   "cell_type": "markdown",
   "metadata": {},
   "source": [
    "### Step #01 : create the data/documents for the basis of recommendation"
   ]
  },
  {
   "cell_type": "code",
   "execution_count": 10,
   "metadata": {},
   "outputs": [],
   "source": [
    "# 3 document\n",
    "doc_WM = 'Today, we learn how to build dinamic website and mobile apps'\n",
    "doc_DM = 'Today, we learn how to promote product to segmented market'\n",
    "doc_DS = 'Today, we learn how to build recommender system'\n",
    "\n",
    "documents = [doc_WM, doc_DM, doc_DS]"
   ]
  },
  {
   "cell_type": "markdown",
   "metadata": {},
   "source": [
    "### Step #02 : Fit the model to learn from the documents and create a document-term matrix as an output"
   ]
  },
  {
   "cell_type": "code",
   "execution_count": 11,
   "metadata": {},
   "outputs": [],
   "source": [
    "#Saving CountVectorizer in a variable to ease the fitting process and using it to learn from the documents\n",
    "count_vectorizer = CountVectorizer(stop_words='english')\n",
    "\n",
    "#fit the model (learn from documents) and also return a document-term matrix at the same time\n",
    "sparse_matrix = count_vectorizer.fit_transform(documents)"
   ]
  },
  {
   "cell_type": "markdown",
   "metadata": {},
   "source": [
    "### Step #03 : Create a DataFrame from the matrix to prepare for cosine similarity"
   ]
  },
  {
   "cell_type": "markdown",
   "metadata": {},
   "source": [
    "This step is actually unnecessary, you directly go to step 4 and calculate the cosine similarity from the sparse matrix, this step is shown in this tutorial so that you could understand better of what is actually happens and why we need CountVectorizer"
   ]
  },
  {
   "cell_type": "code",
   "execution_count": 12,
   "metadata": {},
   "outputs": [
    {
     "data": {
      "text/html": [
       "<div>\n",
       "<style scoped>\n",
       "    .dataframe tbody tr th:only-of-type {\n",
       "        vertical-align: middle;\n",
       "    }\n",
       "\n",
       "    .dataframe tbody tr th {\n",
       "        vertical-align: top;\n",
       "    }\n",
       "\n",
       "    .dataframe thead th {\n",
       "        text-align: right;\n",
       "    }\n",
       "</style>\n",
       "<table border=\"1\" class=\"dataframe\">\n",
       "  <thead>\n",
       "    <tr style=\"text-align: right;\">\n",
       "      <th></th>\n",
       "      <th>apps</th>\n",
       "      <th>build</th>\n",
       "      <th>dinamic</th>\n",
       "      <th>learn</th>\n",
       "      <th>market</th>\n",
       "      <th>mobile</th>\n",
       "      <th>product</th>\n",
       "      <th>promote</th>\n",
       "      <th>recommender</th>\n",
       "      <th>segmented</th>\n",
       "      <th>today</th>\n",
       "      <th>website</th>\n",
       "    </tr>\n",
       "  </thead>\n",
       "  <tbody>\n",
       "    <tr>\n",
       "      <th>doc_WM</th>\n",
       "      <td>1</td>\n",
       "      <td>1</td>\n",
       "      <td>1</td>\n",
       "      <td>1</td>\n",
       "      <td>0</td>\n",
       "      <td>1</td>\n",
       "      <td>0</td>\n",
       "      <td>0</td>\n",
       "      <td>0</td>\n",
       "      <td>0</td>\n",
       "      <td>1</td>\n",
       "      <td>1</td>\n",
       "    </tr>\n",
       "    <tr>\n",
       "      <th>doc_DM</th>\n",
       "      <td>0</td>\n",
       "      <td>0</td>\n",
       "      <td>0</td>\n",
       "      <td>1</td>\n",
       "      <td>1</td>\n",
       "      <td>0</td>\n",
       "      <td>1</td>\n",
       "      <td>1</td>\n",
       "      <td>0</td>\n",
       "      <td>1</td>\n",
       "      <td>1</td>\n",
       "      <td>0</td>\n",
       "    </tr>\n",
       "    <tr>\n",
       "      <th>doc_DS</th>\n",
       "      <td>0</td>\n",
       "      <td>1</td>\n",
       "      <td>0</td>\n",
       "      <td>1</td>\n",
       "      <td>0</td>\n",
       "      <td>0</td>\n",
       "      <td>0</td>\n",
       "      <td>0</td>\n",
       "      <td>1</td>\n",
       "      <td>0</td>\n",
       "      <td>1</td>\n",
       "      <td>0</td>\n",
       "    </tr>\n",
       "  </tbody>\n",
       "</table>\n",
       "</div>"
      ],
      "text/plain": [
       "        apps  build  dinamic  learn  market  mobile  product  promote  \\\n",
       "doc_WM     1      1        1      1       0       1        0        0   \n",
       "doc_DM     0      0        0      1       1       0        1        1   \n",
       "doc_DS     0      1        0      1       0       0        0        0   \n",
       "\n",
       "        recommender  segmented  today  website  \n",
       "doc_WM            0          0      1        1  \n",
       "doc_DM            0          1      1        0  \n",
       "doc_DS            1          0      1        0  "
      ]
     },
     "execution_count": 12,
     "metadata": {},
     "output_type": "execute_result"
    }
   ],
   "source": [
    "#turn the document-term matrix into a dense matrix\n",
    "doc_matrix = sparse_matrix.todense()\n",
    "\n",
    "#create a dataframe from that dense matrix to see how the matrix actually looks like\n",
    "# and understand the role of countvectorizer\n",
    "df_coba = pd.DataFrame(doc_matrix, \n",
    "                       columns=count_vectorizer.get_feature_names(),\n",
    "                       index = ['doc_WM', 'doc_DM', 'doc_DS'])\n",
    "df_coba"
   ]
  },
  {
   "cell_type": "markdown",
   "metadata": {},
   "source": [
    "### Step #04 : Calculate the Cosine Similarity Score and visualize it (optional)"
   ]
  },
  {
   "cell_type": "code",
   "execution_count": 175,
   "metadata": {
    "scrolled": false
   },
   "outputs": [
    {
     "data": {
      "text/plain": [
       "array([[1.        , 0.3086067 , 0.56694671],\n",
       "       [0.3086067 , 1.        , 0.40824829],\n",
       "       [0.56694671, 0.40824829, 1.        ]])"
      ]
     },
     "execution_count": 175,
     "metadata": {},
     "output_type": "execute_result"
    }
   ],
   "source": [
    "cosine_similarity(sparse_matrix)"
   ]
  },
  {
   "cell_type": "code",
   "execution_count": 176,
   "metadata": {},
   "outputs": [
    {
     "data": {
      "text/plain": [
       "array([[1.        , 0.3086067 , 0.56694671],\n",
       "       [0.3086067 , 1.        , 0.40824829],\n",
       "       [0.56694671, 0.40824829, 1.        ]])"
      ]
     },
     "execution_count": 176,
     "metadata": {},
     "output_type": "execute_result"
    }
   ],
   "source": [
    "cosine_similarity(df_coba)"
   ]
  },
  {
   "cell_type": "code",
   "execution_count": 50,
   "metadata": {
    "scrolled": false
   },
   "outputs": [
    {
     "data": {
      "text/plain": [
       "<AxesSubplot:>"
      ]
     },
     "execution_count": 50,
     "metadata": {},
     "output_type": "execute_result"
    },
    {
     "data": {
      "image/png": "[encoded data removed]",
      "text/plain": [
       "<Figure size 432x288 with 2 Axes>"
      ]
     },
     "metadata": {
      "needs_background": "light"
     },
     "output_type": "display_data"
    }
   ],
   "source": [
    "import seaborn as sns\n",
    "\n",
    "# calculate the cosine similarity score to know the similar class for the basis of recommendation\n",
    "cscore = cosine_similarity(df_coba)\n",
    "\n",
    "# Visualize the similarity Score\n",
    "sns.heatmap(cosine_similarity(df_coba), \n",
    "            annot=True, xticklabels=df_coba.index, \n",
    "            yticklabels=df_coba.index)"
   ]
  },
  {
   "cell_type": "markdown",
   "metadata": {},
   "source": [
    "### Step #05 : Try the Recommendation System"
   ]
  },
  {
   "cell_type": "code",
   "execution_count": 116,
   "metadata": {
    "scrolled": true
   },
   "outputs": [
    {
     "name": "stdout",
     "output_type": "stream",
     "text": [
      "What Class Have you taken? (0:WM / 1:DM / 2:DS): 2\n",
      "Class Special For You!\n",
      "1. Web and Mobile\n",
      "2. Digital Marketing\n"
     ]
    }
   ],
   "source": [
    "#Get the input data (what class that he/she has taken before)\n",
    "class_taken = int(input('What Class Have you taken? (0:WM / 1:DM / 2:DS): '))\n",
    "\n",
    "#Create a list of tuple consisting the class number and its cscore\n",
    "class_recom = list(enumerate(cscore[class_taken]))\n",
    "the_recom = sorted(class_recom, key= lambda x:x[1], reverse=True) #sort the highest cscore to recommend\n",
    "\n",
    "# create a looping to show the recommendation\n",
    "next_class =[]\n",
    "for i in the_recom[1:]:\n",
    "    next_class.append(i[0])\n",
    "\n",
    "classes = ['Web and Mobile', 'Digital Marketing', 'Data Science']\n",
    "n=1\n",
    "\n",
    "print('Class Special For You!')    \n",
    "for i in next_class:\n",
    "    print('{}. {}'.format(n, classes[i]))\n",
    "    n+=1"
   ]
  },
  {
   "cell_type": "markdown",
   "metadata": {},
   "source": [
    "## Simple Recommender System Tutorial #2 : Music Recommendation\n",
    "In this second example, we are going to build a very simple music recommender system based on the previous music genre that a particular customer pick"
   ]
  },
  {
   "cell_type": "markdown",
   "metadata": {},
   "source": [
    "### Step #01 : create the data"
   ]
  },
  {
   "cell_type": "code",
   "execution_count": 307,
   "metadata": {},
   "outputs": [
    {
     "data": {
      "text/html": [
       "<div>\n",
       "<style scoped>\n",
       "    .dataframe tbody tr th:only-of-type {\n",
       "        vertical-align: middle;\n",
       "    }\n",
       "\n",
       "    .dataframe tbody tr th {\n",
       "        vertical-align: top;\n",
       "    }\n",
       "\n",
       "    .dataframe thead th {\n",
       "        text-align: right;\n",
       "    }\n",
       "</style>\n",
       "<table border=\"1\" class=\"dataframe\">\n",
       "  <thead>\n",
       "    <tr style=\"text-align: right;\">\n",
       "      <th></th>\n",
       "      <th>title</th>\n",
       "      <th>genre</th>\n",
       "      <th>penyanyi</th>\n",
       "    </tr>\n",
       "  </thead>\n",
       "  <tbody>\n",
       "    <tr>\n",
       "      <th>0</th>\n",
       "      <td>Song_1</td>\n",
       "      <td>pop</td>\n",
       "      <td>Andi</td>\n",
       "    </tr>\n",
       "    <tr>\n",
       "      <th>1</th>\n",
       "      <td>Song_2</td>\n",
       "      <td>jazz</td>\n",
       "      <td>Andi</td>\n",
       "    </tr>\n",
       "    <tr>\n",
       "      <th>2</th>\n",
       "      <td>Song_3</td>\n",
       "      <td>dangdut</td>\n",
       "      <td>Andi</td>\n",
       "    </tr>\n",
       "    <tr>\n",
       "      <th>3</th>\n",
       "      <td>Song_4</td>\n",
       "      <td>pop</td>\n",
       "      <td>Budi</td>\n",
       "    </tr>\n",
       "    <tr>\n",
       "      <th>4</th>\n",
       "      <td>Song_5</td>\n",
       "      <td>jazz</td>\n",
       "      <td>Budi</td>\n",
       "    </tr>\n",
       "    <tr>\n",
       "      <th>5</th>\n",
       "      <td>Song_6</td>\n",
       "      <td>dangdut</td>\n",
       "      <td>Budi</td>\n",
       "    </tr>\n",
       "    <tr>\n",
       "      <th>6</th>\n",
       "      <td>Song_7</td>\n",
       "      <td>pop</td>\n",
       "      <td>Caca</td>\n",
       "    </tr>\n",
       "    <tr>\n",
       "      <th>7</th>\n",
       "      <td>Song_8</td>\n",
       "      <td>jazz</td>\n",
       "      <td>Caca</td>\n",
       "    </tr>\n",
       "    <tr>\n",
       "      <th>8</th>\n",
       "      <td>Song_9</td>\n",
       "      <td>dangdut</td>\n",
       "      <td>Caca</td>\n",
       "    </tr>\n",
       "    <tr>\n",
       "      <th>9</th>\n",
       "      <td>Song_10</td>\n",
       "      <td>pop</td>\n",
       "      <td>Caca</td>\n",
       "    </tr>\n",
       "  </tbody>\n",
       "</table>\n",
       "</div>"
      ],
      "text/plain": [
       "     title    genre penyanyi\n",
       "0   Song_1      pop     Andi\n",
       "1   Song_2     jazz     Andi\n",
       "2   Song_3  dangdut     Andi\n",
       "3   Song_4      pop     Budi\n",
       "4   Song_5     jazz     Budi\n",
       "5   Song_6  dangdut     Budi\n",
       "6   Song_7      pop     Caca\n",
       "7   Song_8     jazz     Caca\n",
       "8   Song_9  dangdut     Caca\n",
       "9  Song_10      pop     Caca"
      ]
     },
     "execution_count": 307,
     "metadata": {},
     "output_type": "execute_result"
    }
   ],
   "source": [
    "df = pd.DataFrame({'title'   :[('Song_'+ str(i)) for i in range(1,11)],\n",
    "              'genre'   :['pop', 'jazz', 'dangdut', 'pop', 'jazz', 'dangdut', \n",
    "                          'pop', 'jazz', 'dangdut', 'pop'],\n",
    "              'penyanyi':['Andi', 'Andi', 'Andi','Budi', 'Budi', 'Budi', \n",
    "                          'Caca', 'Caca', 'Caca', 'Caca']})\n",
    "df"
   ]
  },
  {
   "cell_type": "code",
   "execution_count": 308,
   "metadata": {},
   "outputs": [
    {
     "data": {
      "text/plain": [
       "['dangdut', 'jazz', 'pop']"
      ]
     },
     "execution_count": 308,
     "metadata": {},
     "output_type": "execute_result"
    }
   ],
   "source": [
    "cv = CountVectorizer()\n",
    "genre = cv.fit_transform(df['genre'])\n",
    "cv.get_feature_names()"
   ]
  },
  {
   "cell_type": "code",
   "execution_count": 309,
   "metadata": {},
   "outputs": [
    {
     "data": {
      "text/plain": [
       "array([[0, 0, 1],\n",
       "       [0, 1, 0],\n",
       "       [1, 0, 0],\n",
       "       [0, 0, 1],\n",
       "       [0, 1, 0],\n",
       "       [1, 0, 0],\n",
       "       [0, 0, 1],\n",
       "       [0, 1, 0],\n",
       "       [1, 0, 0],\n",
       "       [0, 0, 1]], dtype=int64)"
      ]
     },
     "execution_count": 309,
     "metadata": {},
     "output_type": "execute_result"
    }
   ],
   "source": [
    "genre.toarray()"
   ]
  },
  {
   "cell_type": "code",
   "execution_count": 310,
   "metadata": {
    "scrolled": false
   },
   "outputs": [
    {
     "data": {
      "text/html": [
       "<div>\n",
       "<style scoped>\n",
       "    .dataframe tbody tr th:only-of-type {\n",
       "        vertical-align: middle;\n",
       "    }\n",
       "\n",
       "    .dataframe tbody tr th {\n",
       "        vertical-align: top;\n",
       "    }\n",
       "\n",
       "    .dataframe thead th {\n",
       "        text-align: right;\n",
       "    }\n",
       "</style>\n",
       "<table border=\"1\" class=\"dataframe\">\n",
       "  <thead>\n",
       "    <tr style=\"text-align: right;\">\n",
       "      <th></th>\n",
       "      <th>dangdut</th>\n",
       "      <th>jazz</th>\n",
       "      <th>pop</th>\n",
       "    </tr>\n",
       "  </thead>\n",
       "  <tbody>\n",
       "    <tr>\n",
       "      <th>0</th>\n",
       "      <td>0</td>\n",
       "      <td>0</td>\n",
       "      <td>1</td>\n",
       "    </tr>\n",
       "    <tr>\n",
       "      <th>1</th>\n",
       "      <td>0</td>\n",
       "      <td>1</td>\n",
       "      <td>0</td>\n",
       "    </tr>\n",
       "    <tr>\n",
       "      <th>2</th>\n",
       "      <td>1</td>\n",
       "      <td>0</td>\n",
       "      <td>0</td>\n",
       "    </tr>\n",
       "    <tr>\n",
       "      <th>3</th>\n",
       "      <td>0</td>\n",
       "      <td>0</td>\n",
       "      <td>1</td>\n",
       "    </tr>\n",
       "    <tr>\n",
       "      <th>4</th>\n",
       "      <td>0</td>\n",
       "      <td>1</td>\n",
       "      <td>0</td>\n",
       "    </tr>\n",
       "    <tr>\n",
       "      <th>5</th>\n",
       "      <td>1</td>\n",
       "      <td>0</td>\n",
       "      <td>0</td>\n",
       "    </tr>\n",
       "    <tr>\n",
       "      <th>6</th>\n",
       "      <td>0</td>\n",
       "      <td>0</td>\n",
       "      <td>1</td>\n",
       "    </tr>\n",
       "    <tr>\n",
       "      <th>7</th>\n",
       "      <td>0</td>\n",
       "      <td>1</td>\n",
       "      <td>0</td>\n",
       "    </tr>\n",
       "    <tr>\n",
       "      <th>8</th>\n",
       "      <td>1</td>\n",
       "      <td>0</td>\n",
       "      <td>0</td>\n",
       "    </tr>\n",
       "    <tr>\n",
       "      <th>9</th>\n",
       "      <td>0</td>\n",
       "      <td>0</td>\n",
       "      <td>1</td>\n",
       "    </tr>\n",
       "  </tbody>\n",
       "</table>\n",
       "</div>"
      ],
      "text/plain": [
       "   dangdut  jazz  pop\n",
       "0        0     0    1\n",
       "1        0     1    0\n",
       "2        1     0    0\n",
       "3        0     0    1\n",
       "4        0     1    0\n",
       "5        1     0    0\n",
       "6        0     0    1\n",
       "7        0     1    0\n",
       "8        1     0    0\n",
       "9        0     0    1"
      ]
     },
     "execution_count": 310,
     "metadata": {},
     "output_type": "execute_result"
    }
   ],
   "source": [
    "genre_matrix = genre.toarray()\n",
    "df_matrix = pd.DataFrame(genre_matrix, columns=cv.get_feature_names())\n",
    "df_matrix"
   ]
  },
  {
   "cell_type": "code",
   "execution_count": 311,
   "metadata": {
    "scrolled": true
   },
   "outputs": [
    {
     "data": {
      "text/plain": [
       "<AxesSubplot:>"
      ]
     },
     "execution_count": 311,
     "metadata": {},
     "output_type": "execute_result"
    },
    {
     "data": {
      "image/png": "[encoded data removed]",
      "text/plain": [
       "<Figure size 432x288 with 2 Axes>"
      ]
     },
     "metadata": {
      "needs_background": "light"
     },
     "output_type": "display_data"
    }
   ],
   "source": [
    "cosScore = cosine_similarity(df_matrix)\n",
    "sns.heatmap(cosScore, annot=True)"
   ]
  },
  {
   "cell_type": "code",
   "execution_count": 317,
   "metadata": {
    "scrolled": true
   },
   "outputs": [
    {
     "name": "stdout",
     "output_type": "stream",
     "text": [
      "terakhir didengar? 2\n",
      "Special Pick For You!\n",
      "1. Song_3\n",
      "2. Song_6\n",
      "3. Song_9\n",
      "4. Song_1\n",
      "5. Song_2\n"
     ]
    }
   ],
   "source": [
    "last_played = int(input('terakhir didengar? ')) #index\n",
    "\n",
    "music_recom = list(enumerate(cosScore[last_played]))\n",
    "\n",
    "your_recom = sorted(music_recom, key = lambda x: x[1], reverse=True)\n",
    "your_recom[:5]\n",
    "\n",
    "# Showing 5 recommended music based on the input music\n",
    "recom = []\n",
    "for i in your_recom[:5]:\n",
    "    recom.append(df.iloc[i[0]][0])\n",
    "\n",
    "print('Special Pick For You!')\n",
    "for i in range(len(recom)):\n",
    "    print('{}. {}'.format(1+i, recom[i]))"
   ]
  },
  {
   "cell_type": "code",
   "execution_count": 233,
   "metadata": {},
   "outputs": [
    {
     "data": {
      "text/html": [
       "<div>\n",
       "<style scoped>\n",
       "    .dataframe tbody tr th:only-of-type {\n",
       "        vertical-align: middle;\n",
       "    }\n",
       "\n",
       "    .dataframe tbody tr th {\n",
       "        vertical-align: top;\n",
       "    }\n",
       "\n",
       "    .dataframe thead th {\n",
       "        text-align: right;\n",
       "    }\n",
       "</style>\n",
       "<table border=\"1\" class=\"dataframe\">\n",
       "  <thead>\n",
       "    <tr style=\"text-align: right;\">\n",
       "      <th></th>\n",
       "      <th>anime_id</th>\n",
       "      <th>name</th>\n",
       "      <th>genre</th>\n",
       "      <th>type</th>\n",
       "      <th>episodes</th>\n",
       "      <th>rating</th>\n",
       "      <th>members</th>\n",
       "    </tr>\n",
       "  </thead>\n",
       "  <tbody>\n",
       "    <tr>\n",
       "      <th>0</th>\n",
       "      <td>32281</td>\n",
       "      <td>Kimi no Na wa.</td>\n",
       "      <td>Drama, Romance, School, Supernatural</td>\n",
       "      <td>Movie</td>\n",
       "      <td>1</td>\n",
       "      <td>9.37</td>\n",
       "      <td>200630</td>\n",
       "    </tr>\n",
       "    <tr>\n",
       "      <th>1</th>\n",
       "      <td>5114</td>\n",
       "      <td>Fullmetal Alchemist: Brotherhood</td>\n",
       "      <td>Action, Adventure, Drama, Fantasy, Magic, Mili...</td>\n",
       "      <td>TV</td>\n",
       "      <td>64</td>\n",
       "      <td>9.26</td>\n",
       "      <td>793665</td>\n",
       "    </tr>\n",
       "    <tr>\n",
       "      <th>2</th>\n",
       "      <td>28977</td>\n",
       "      <td>Gintama°</td>\n",
       "      <td>Action, Comedy, Historical, Parody, Samurai, S...</td>\n",
       "      <td>TV</td>\n",
       "      <td>51</td>\n",
       "      <td>9.25</td>\n",
       "      <td>114262</td>\n",
       "    </tr>\n",
       "    <tr>\n",
       "      <th>3</th>\n",
       "      <td>9253</td>\n",
       "      <td>Steins;Gate</td>\n",
       "      <td>Sci-Fi, Thriller</td>\n",
       "      <td>TV</td>\n",
       "      <td>24</td>\n",
       "      <td>9.17</td>\n",
       "      <td>673572</td>\n",
       "    </tr>\n",
       "    <tr>\n",
       "      <th>4</th>\n",
       "      <td>9969</td>\n",
       "      <td>Gintama&amp;#039;</td>\n",
       "      <td>Action, Comedy, Historical, Parody, Samurai, S...</td>\n",
       "      <td>TV</td>\n",
       "      <td>51</td>\n",
       "      <td>9.16</td>\n",
       "      <td>151266</td>\n",
       "    </tr>\n",
       "  </tbody>\n",
       "</table>\n",
       "</div>"
      ],
      "text/plain": [
       "   anime_id                              name  \\\n",
       "0     32281                    Kimi no Na wa.   \n",
       "1      5114  Fullmetal Alchemist: Brotherhood   \n",
       "2     28977                          Gintama°   \n",
       "3      9253                       Steins;Gate   \n",
       "4      9969                     Gintama&#039;   \n",
       "\n",
       "                                               genre   type episodes  rating  \\\n",
       "0               Drama, Romance, School, Supernatural  Movie        1    9.37   \n",
       "1  Action, Adventure, Drama, Fantasy, Magic, Mili...     TV       64    9.26   \n",
       "2  Action, Comedy, Historical, Parody, Samurai, S...     TV       51    9.25   \n",
       "3                                   Sci-Fi, Thriller     TV       24    9.17   \n",
       "4  Action, Comedy, Historical, Parody, Samurai, S...     TV       51    9.16   \n",
       "\n",
       "   members  \n",
       "0   200630  \n",
       "1   793665  \n",
       "2   114262  \n",
       "3   673572  \n",
       "4   151266  "
      ]
     },
     "execution_count": 233,
     "metadata": {},
     "output_type": "execute_result"
    }
   ],
   "source": [
    "anime = pd.read_csv(r'C:\\Users\\HP.LAPTOP-5BTBEJFV\\Documents\\data science\\MODULE 3\\anime.csv')\n",
    "anime.head()"
   ]
  },
  {
   "cell_type": "code",
   "execution_count": 234,
   "metadata": {
    "scrolled": true
   },
   "outputs": [
    {
     "name": "stdout",
     "output_type": "stream",
     "text": [
      "<class 'pandas.core.frame.DataFrame'>\n",
      "RangeIndex: 12294 entries, 0 to 12293\n",
      "Data columns (total 7 columns):\n",
      " #   Column    Non-Null Count  Dtype  \n",
      "---  ------    --------------  -----  \n",
      " 0   anime_id  12294 non-null  int64  \n",
      " 1   name      12294 non-null  object \n",
      " 2   genre     12232 non-null  object \n",
      " 3   type      12269 non-null  object \n",
      " 4   episodes  12294 non-null  object \n",
      " 5   rating    12064 non-null  float64\n",
      " 6   members   12294 non-null  int64  \n",
      "dtypes: float64(1), int64(2), object(4)\n",
      "memory usage: 672.5+ KB\n"
     ]
    }
   ],
   "source": [
    "anime.info()"
   ]
  },
  {
   "cell_type": "code",
   "execution_count": 235,
   "metadata": {},
   "outputs": [
    {
     "data": {
      "text/html": [
       "<div>\n",
       "<style scoped>\n",
       "    .dataframe tbody tr th:only-of-type {\n",
       "        vertical-align: middle;\n",
       "    }\n",
       "\n",
       "    .dataframe tbody tr th {\n",
       "        vertical-align: top;\n",
       "    }\n",
       "\n",
       "    .dataframe thead th {\n",
       "        text-align: right;\n",
       "    }\n",
       "</style>\n",
       "<table border=\"1\" class=\"dataframe\">\n",
       "  <thead>\n",
       "    <tr style=\"text-align: right;\">\n",
       "      <th></th>\n",
       "      <th>anime_id</th>\n",
       "      <th>name</th>\n",
       "      <th>genre</th>\n",
       "      <th>type</th>\n",
       "    </tr>\n",
       "  </thead>\n",
       "  <tbody>\n",
       "    <tr>\n",
       "      <th>0</th>\n",
       "      <td>32281</td>\n",
       "      <td>Kimi no Na wa.</td>\n",
       "      <td>Drama, Romance, School, Supernatural</td>\n",
       "      <td>Movie</td>\n",
       "    </tr>\n",
       "    <tr>\n",
       "      <th>1</th>\n",
       "      <td>5114</td>\n",
       "      <td>Fullmetal Alchemist: Brotherhood</td>\n",
       "      <td>Action, Adventure, Drama, Fantasy, Magic, Mili...</td>\n",
       "      <td>TV</td>\n",
       "    </tr>\n",
       "    <tr>\n",
       "      <th>2</th>\n",
       "      <td>28977</td>\n",
       "      <td>Gintama°</td>\n",
       "      <td>Action, Comedy, Historical, Parody, Samurai, S...</td>\n",
       "      <td>TV</td>\n",
       "    </tr>\n",
       "    <tr>\n",
       "      <th>3</th>\n",
       "      <td>9253</td>\n",
       "      <td>Steins;Gate</td>\n",
       "      <td>Sci-Fi, Thriller</td>\n",
       "      <td>TV</td>\n",
       "    </tr>\n",
       "    <tr>\n",
       "      <th>4</th>\n",
       "      <td>9969</td>\n",
       "      <td>Gintama&amp;#039;</td>\n",
       "      <td>Action, Comedy, Historical, Parody, Samurai, S...</td>\n",
       "      <td>TV</td>\n",
       "    </tr>\n",
       "  </tbody>\n",
       "</table>\n",
       "</div>"
      ],
      "text/plain": [
       "   anime_id                              name  \\\n",
       "0     32281                    Kimi no Na wa.   \n",
       "1      5114  Fullmetal Alchemist: Brotherhood   \n",
       "2     28977                          Gintama°   \n",
       "3      9253                       Steins;Gate   \n",
       "4      9969                     Gintama&#039;   \n",
       "\n",
       "                                               genre   type  \n",
       "0               Drama, Romance, School, Supernatural  Movie  \n",
       "1  Action, Adventure, Drama, Fantasy, Magic, Mili...     TV  \n",
       "2  Action, Comedy, Historical, Parody, Samurai, S...     TV  \n",
       "3                                   Sci-Fi, Thriller     TV  \n",
       "4  Action, Comedy, Historical, Parody, Samurai, S...     TV  "
      ]
     },
     "execution_count": 235,
     "metadata": {},
     "output_type": "execute_result"
    }
   ],
   "source": [
    "anime = anime.iloc[:, :4]\n",
    "anime.head()"
   ]
  },
  {
   "cell_type": "code",
   "execution_count": 236,
   "metadata": {
    "scrolled": true
   },
   "outputs": [
    {
     "data": {
      "text/plain": [
       "anime_id     0\n",
       "name         0\n",
       "genre       62\n",
       "type        25\n",
       "dtype: int64"
      ]
     },
     "execution_count": 236,
     "metadata": {},
     "output_type": "execute_result"
    }
   ],
   "source": [
    "anime.isna().sum()"
   ]
  },
  {
   "cell_type": "code",
   "execution_count": 237,
   "metadata": {},
   "outputs": [
    {
     "data": {
      "text/html": [
       "<div>\n",
       "<style scoped>\n",
       "    .dataframe tbody tr th:only-of-type {\n",
       "        vertical-align: middle;\n",
       "    }\n",
       "\n",
       "    .dataframe tbody tr th {\n",
       "        vertical-align: top;\n",
       "    }\n",
       "\n",
       "    .dataframe thead th {\n",
       "        text-align: right;\n",
       "    }\n",
       "</style>\n",
       "<table border=\"1\" class=\"dataframe\">\n",
       "  <thead>\n",
       "    <tr style=\"text-align: right;\">\n",
       "      <th></th>\n",
       "      <th>anime_id</th>\n",
       "      <th>name</th>\n",
       "      <th>genre</th>\n",
       "      <th>type</th>\n",
       "    </tr>\n",
       "  </thead>\n",
       "  <tbody>\n",
       "    <tr>\n",
       "      <th>0</th>\n",
       "      <td>32281</td>\n",
       "      <td>Kimi no Na wa.</td>\n",
       "      <td>Drama, Romance, School, Supernatural</td>\n",
       "      <td>Movie</td>\n",
       "    </tr>\n",
       "    <tr>\n",
       "      <th>1</th>\n",
       "      <td>5114</td>\n",
       "      <td>Fullmetal Alchemist: Brotherhood</td>\n",
       "      <td>Action, Adventure, Drama, Fantasy, Magic, Mili...</td>\n",
       "      <td>TV</td>\n",
       "    </tr>\n",
       "    <tr>\n",
       "      <th>2</th>\n",
       "      <td>28977</td>\n",
       "      <td>Gintama°</td>\n",
       "      <td>Action, Comedy, Historical, Parody, Samurai, S...</td>\n",
       "      <td>TV</td>\n",
       "    </tr>\n",
       "    <tr>\n",
       "      <th>3</th>\n",
       "      <td>9253</td>\n",
       "      <td>Steins;Gate</td>\n",
       "      <td>Sci-Fi, Thriller</td>\n",
       "      <td>TV</td>\n",
       "    </tr>\n",
       "    <tr>\n",
       "      <th>4</th>\n",
       "      <td>9969</td>\n",
       "      <td>Gintama&amp;#039;</td>\n",
       "      <td>Action, Comedy, Historical, Parody, Samurai, S...</td>\n",
       "      <td>TV</td>\n",
       "    </tr>\n",
       "    <tr>\n",
       "      <th>...</th>\n",
       "      <td>...</td>\n",
       "      <td>...</td>\n",
       "      <td>...</td>\n",
       "      <td>...</td>\n",
       "    </tr>\n",
       "    <tr>\n",
       "      <th>12289</th>\n",
       "      <td>9316</td>\n",
       "      <td>Toushindai My Lover: Minami tai Mecha-Minami</td>\n",
       "      <td>Hentai</td>\n",
       "      <td>OVA</td>\n",
       "    </tr>\n",
       "    <tr>\n",
       "      <th>12290</th>\n",
       "      <td>5543</td>\n",
       "      <td>Under World</td>\n",
       "      <td>Hentai</td>\n",
       "      <td>OVA</td>\n",
       "    </tr>\n",
       "    <tr>\n",
       "      <th>12291</th>\n",
       "      <td>5621</td>\n",
       "      <td>Violence Gekiga David no Hoshi</td>\n",
       "      <td>Hentai</td>\n",
       "      <td>OVA</td>\n",
       "    </tr>\n",
       "    <tr>\n",
       "      <th>12292</th>\n",
       "      <td>6133</td>\n",
       "      <td>Violence Gekiga Shin David no Hoshi: Inma Dens...</td>\n",
       "      <td>Hentai</td>\n",
       "      <td>OVA</td>\n",
       "    </tr>\n",
       "    <tr>\n",
       "      <th>12293</th>\n",
       "      <td>26081</td>\n",
       "      <td>Yasuji no Pornorama: Yacchimae!!</td>\n",
       "      <td>Hentai</td>\n",
       "      <td>Movie</td>\n",
       "    </tr>\n",
       "  </tbody>\n",
       "</table>\n",
       "<p>12210 rows × 4 columns</p>\n",
       "</div>"
      ],
      "text/plain": [
       "       anime_id                                               name  \\\n",
       "0         32281                                     Kimi no Na wa.   \n",
       "1          5114                   Fullmetal Alchemist: Brotherhood   \n",
       "2         28977                                           Gintama°   \n",
       "3          9253                                        Steins;Gate   \n",
       "4          9969                                      Gintama&#039;   \n",
       "...         ...                                                ...   \n",
       "12289      9316       Toushindai My Lover: Minami tai Mecha-Minami   \n",
       "12290      5543                                        Under World   \n",
       "12291      5621                     Violence Gekiga David no Hoshi   \n",
       "12292      6133  Violence Gekiga Shin David no Hoshi: Inma Dens...   \n",
       "12293     26081                   Yasuji no Pornorama: Yacchimae!!   \n",
       "\n",
       "                                                   genre   type  \n",
       "0                   Drama, Romance, School, Supernatural  Movie  \n",
       "1      Action, Adventure, Drama, Fantasy, Magic, Mili...     TV  \n",
       "2      Action, Comedy, Historical, Parody, Samurai, S...     TV  \n",
       "3                                       Sci-Fi, Thriller     TV  \n",
       "4      Action, Comedy, Historical, Parody, Samurai, S...     TV  \n",
       "...                                                  ...    ...  \n",
       "12289                                             Hentai    OVA  \n",
       "12290                                             Hentai    OVA  \n",
       "12291                                             Hentai    OVA  \n",
       "12292                                             Hentai    OVA  \n",
       "12293                                             Hentai  Movie  \n",
       "\n",
       "[12210 rows x 4 columns]"
      ]
     },
     "execution_count": 237,
     "metadata": {},
     "output_type": "execute_result"
    }
   ],
   "source": [
    "anime_notnull = anime.dropna()\n",
    "anime_notnull"
   ]
  },
  {
   "cell_type": "code",
   "execution_count": 320,
   "metadata": {
    "scrolled": false
   },
   "outputs": [],
   "source": [
    "cv = CountVectorizer(tokenizer=lambda x:x.split(', '))\n",
    "by_genre = cv.fit_transform(anime_notnull['genre'])"
   ]
  },
  {
   "cell_type": "code",
   "execution_count": 321,
   "metadata": {},
   "outputs": [
    {
     "name": "stdout",
     "output_type": "stream",
     "text": [
      "43\n",
      "['action', 'adventure', 'cars', 'comedy', 'dementia', 'demons', 'drama', 'ecchi', 'fantasy', 'game', 'harem', 'hentai', 'historical', 'horror', 'josei', 'kids', 'magic', 'martial arts', 'mecha', 'military', 'music', 'mystery', 'parody', 'police', 'psychological', 'romance', 'samurai', 'school', 'sci-fi', 'seinen', 'shoujo', 'shoujo ai', 'shounen', 'shounen ai', 'slice of life', 'space', 'sports', 'super power', 'supernatural', 'thriller', 'vampire', 'yaoi', 'yuri']\n"
     ]
    }
   ],
   "source": [
    "print(len(cv.get_feature_names()))\n",
    "print(cv.get_feature_names())"
   ]
  },
  {
   "cell_type": "code",
   "execution_count": 240,
   "metadata": {},
   "outputs": [
    {
     "data": {
      "text/plain": [
       "array([[0, 0, 0, ..., 0, 0, 0],\n",
       "       [1, 1, 0, ..., 0, 0, 0],\n",
       "       [1, 0, 0, ..., 0, 0, 0],\n",
       "       ...,\n",
       "       [0, 0, 0, ..., 0, 0, 0],\n",
       "       [0, 0, 0, ..., 0, 0, 0],\n",
       "       [0, 0, 0, ..., 0, 0, 0]], dtype=int64)"
      ]
     },
     "execution_count": 240,
     "metadata": {},
     "output_type": "execute_result"
    }
   ],
   "source": [
    "by_genre.toarray()"
   ]
  },
  {
   "cell_type": "code",
   "execution_count": 277,
   "metadata": {},
   "outputs": [],
   "source": [
    "coScore_anime = cosine_similarity(by_genre)"
   ]
  },
  {
   "cell_type": "code",
   "execution_count": 250,
   "metadata": {
    "scrolled": false
   },
   "outputs": [],
   "source": [
    "new_anime = anime_notnull.reset_index()"
   ]
  },
  {
   "cell_type": "code",
   "execution_count": 279,
   "metadata": {
    "scrolled": true
   },
   "outputs": [
    {
     "name": "stdout",
     "output_type": "stream",
     "text": [
      "Apa anime yang anda sukai? Kimi no Na wa.\n",
      "Special Pick For You!\n",
      "1. Harmonie, (Genre : Drama, School, Supernatural)\n",
      "2. Kimikiss Pure Rouge, (Genre : Drama, Romance, School)\n",
      "3. Myself; Yourself, (Genre : Drama, Romance, School)\n",
      "4. Air Movie, (Genre : Drama, Romance, Supernatural)\n",
      "5. Koi to Senkyo to Chocolate, (Genre : Drama, Romance, School)\n",
      "6. Koisuru Tenshi Angelique: Kokoro no Mezameru Toki, (Genre : Adventure, Comedy, Drama, Fantasy, Magic, Romance, Sci-Fi, Shoujo)\n",
      "7. Ring ni Kakero 1: Sekai Taikai-hen, (Genre : Sports)\n",
      "8. Konpeki no Kantai, (Genre : Action, Drama, Historical, Military)\n",
      "9. One Piece: Cry Heart, (Genre : Fantasy, Shounen)\n",
      "10. Windaria, (Genre : Action, Drama, Fantasy, Romance, Sci-Fi)\n"
     ]
    }
   ],
   "source": [
    "anime_liked = input('Apa anime yang anda sukai? ')\n",
    "\n",
    "index_suka = new_anime[new_anime['name']==anime_liked].index\n",
    "index_suka[0]\n",
    "\n",
    "anime_recom = list(enumerate(coScore_anime[index_suka[0]]))\n",
    "\n",
    "your_recom = sorted(anime_recom, key = lambda x: x[1], reverse=True)\n",
    "\n",
    "# Showing 5 recommended music based on the input music\n",
    "recom = []\n",
    "for i in your_recom[9:19]:\n",
    "    recom.append(new_anime.iloc[i[0]][0])\n",
    "\n",
    "print('Special Pick For You!')\n",
    "for i in range(len(recom)):\n",
    "    print('{}. {}, (Genre : {})'.format(1+i, new_anime.iloc[recom[i], 2],new_anime.iloc[recom[i], 3] ))"
   ]
  },
  {
   "cell_type": "code",
   "execution_count": null,
   "metadata": {},
   "outputs": [],
   "source": [
    "by_type = cv.fit_transform(anime_notnull['type'])\n",
    "coScore_anime_2 = cosine_similarity(by_type)"
   ]
  },
  {
   "cell_type": "code",
   "execution_count": 281,
   "metadata": {},
   "outputs": [
    {
     "name": "stdout",
     "output_type": "stream",
     "text": [
      "Apa anime yang anda sukai? Kimi no Na wa.\n",
      "Special Pick For You!\n",
      "1. Kizumonogatari II: Nekketsu-hen, (Type : Movie)\n",
      "2. Kara no Kyoukai 5: Mujun Rasen, (Type : Movie)\n",
      "3. Tengen Toppa Gurren Lagann Movie: Lagann-hen, (Type : Movie)\n",
      "4. Steins;Gate Movie: Fuka Ryouiki no Déjà vu, (Type : Movie)\n",
      "5. Hotarubi no Mori e, (Type : Movie)\n",
      "6. Gintama: Yorinuki Gintama-san on Theater 2D, (Type : Movie)\n",
      "7. Gintama Movie: Shinyaku Benizakura-hen, (Type : Movie)\n",
      "8. Bakemono no Ko, (Type : Movie)\n",
      "9. Hotaru no Haka, (Type : Movie)\n",
      "10. Kara no Kyoukai 7: Satsujin Kousatsu (Kou), (Type : Movie)\n"
     ]
    }
   ],
   "source": [
    "anime_liked = input('Apa anime yang anda sukai? ')\n",
    "\n",
    "index_suka = new_anime[new_anime['name']==anime_liked].index\n",
    "index_suka[0]\n",
    "\n",
    "anime_recom = list(enumerate(coScore_anime_2[index_suka[0]]))\n",
    "\n",
    "your_recom = sorted(anime_recom, key = lambda x: x[1], reverse=True)\n",
    "\n",
    "# Showing 5 recommended music based on the input music\n",
    "recom = []\n",
    "for i in your_recom[9:19]:\n",
    "    recom.append(new_anime.iloc[i[0]][0])\n",
    "\n",
    "print('Special Pick For You!')\n",
    "for i in range(len(recom)):\n",
    "    print('{}. {}, (Type : {})'.format(1+i, new_anime.iloc[recom[i], 2],new_anime.iloc[recom[i], 4] ))"
   ]
  },
  {
   "cell_type": "code",
   "execution_count": 287,
   "metadata": {},
   "outputs": [],
   "source": [
    "new_anime['genre_type'] = new_anime['genre'] +str(', ') + new_anime['type']"
   ]
  },
  {
   "cell_type": "code",
   "execution_count": 288,
   "metadata": {},
   "outputs": [
    {
     "data": {
      "text/html": [
       "<div>\n",
       "<style scoped>\n",
       "    .dataframe tbody tr th:only-of-type {\n",
       "        vertical-align: middle;\n",
       "    }\n",
       "\n",
       "    .dataframe tbody tr th {\n",
       "        vertical-align: top;\n",
       "    }\n",
       "\n",
       "    .dataframe thead th {\n",
       "        text-align: right;\n",
       "    }\n",
       "</style>\n",
       "<table border=\"1\" class=\"dataframe\">\n",
       "  <thead>\n",
       "    <tr style=\"text-align: right;\">\n",
       "      <th></th>\n",
       "      <th>index</th>\n",
       "      <th>anime_id</th>\n",
       "      <th>name</th>\n",
       "      <th>genre</th>\n",
       "      <th>type</th>\n",
       "      <th>genre_type</th>\n",
       "    </tr>\n",
       "  </thead>\n",
       "  <tbody>\n",
       "    <tr>\n",
       "      <th>0</th>\n",
       "      <td>0</td>\n",
       "      <td>32281</td>\n",
       "      <td>Kimi no Na wa.</td>\n",
       "      <td>Drama, Romance, School, Supernatural</td>\n",
       "      <td>Movie</td>\n",
       "      <td>Drama, Romance, School, Supernatural, Movie</td>\n",
       "    </tr>\n",
       "    <tr>\n",
       "      <th>1</th>\n",
       "      <td>1</td>\n",
       "      <td>5114</td>\n",
       "      <td>Fullmetal Alchemist: Brotherhood</td>\n",
       "      <td>Action, Adventure, Drama, Fantasy, Magic, Mili...</td>\n",
       "      <td>TV</td>\n",
       "      <td>Action, Adventure, Drama, Fantasy, Magic, Mili...</td>\n",
       "    </tr>\n",
       "    <tr>\n",
       "      <th>2</th>\n",
       "      <td>2</td>\n",
       "      <td>28977</td>\n",
       "      <td>Gintama°</td>\n",
       "      <td>Action, Comedy, Historical, Parody, Samurai, S...</td>\n",
       "      <td>TV</td>\n",
       "      <td>Action, Comedy, Historical, Parody, Samurai, S...</td>\n",
       "    </tr>\n",
       "    <tr>\n",
       "      <th>3</th>\n",
       "      <td>3</td>\n",
       "      <td>9253</td>\n",
       "      <td>Steins;Gate</td>\n",
       "      <td>Sci-Fi, Thriller</td>\n",
       "      <td>TV</td>\n",
       "      <td>Sci-Fi, Thriller, TV</td>\n",
       "    </tr>\n",
       "    <tr>\n",
       "      <th>4</th>\n",
       "      <td>4</td>\n",
       "      <td>9969</td>\n",
       "      <td>Gintama&amp;#039;</td>\n",
       "      <td>Action, Comedy, Historical, Parody, Samurai, S...</td>\n",
       "      <td>TV</td>\n",
       "      <td>Action, Comedy, Historical, Parody, Samurai, S...</td>\n",
       "    </tr>\n",
       "    <tr>\n",
       "      <th>...</th>\n",
       "      <td>...</td>\n",
       "      <td>...</td>\n",
       "      <td>...</td>\n",
       "      <td>...</td>\n",
       "      <td>...</td>\n",
       "      <td>...</td>\n",
       "    </tr>\n",
       "    <tr>\n",
       "      <th>12205</th>\n",
       "      <td>12289</td>\n",
       "      <td>9316</td>\n",
       "      <td>Toushindai My Lover: Minami tai Mecha-Minami</td>\n",
       "      <td>Hentai</td>\n",
       "      <td>OVA</td>\n",
       "      <td>Hentai, OVA</td>\n",
       "    </tr>\n",
       "    <tr>\n",
       "      <th>12206</th>\n",
       "      <td>12290</td>\n",
       "      <td>5543</td>\n",
       "      <td>Under World</td>\n",
       "      <td>Hentai</td>\n",
       "      <td>OVA</td>\n",
       "      <td>Hentai, OVA</td>\n",
       "    </tr>\n",
       "    <tr>\n",
       "      <th>12207</th>\n",
       "      <td>12291</td>\n",
       "      <td>5621</td>\n",
       "      <td>Violence Gekiga David no Hoshi</td>\n",
       "      <td>Hentai</td>\n",
       "      <td>OVA</td>\n",
       "      <td>Hentai, OVA</td>\n",
       "    </tr>\n",
       "    <tr>\n",
       "      <th>12208</th>\n",
       "      <td>12292</td>\n",
       "      <td>6133</td>\n",
       "      <td>Violence Gekiga Shin David no Hoshi: Inma Dens...</td>\n",
       "      <td>Hentai</td>\n",
       "      <td>OVA</td>\n",
       "      <td>Hentai, OVA</td>\n",
       "    </tr>\n",
       "    <tr>\n",
       "      <th>12209</th>\n",
       "      <td>12293</td>\n",
       "      <td>26081</td>\n",
       "      <td>Yasuji no Pornorama: Yacchimae!!</td>\n",
       "      <td>Hentai</td>\n",
       "      <td>Movie</td>\n",
       "      <td>Hentai, Movie</td>\n",
       "    </tr>\n",
       "  </tbody>\n",
       "</table>\n",
       "<p>12210 rows × 6 columns</p>\n",
       "</div>"
      ],
      "text/plain": [
       "       index  anime_id                                               name  \\\n",
       "0          0     32281                                     Kimi no Na wa.   \n",
       "1          1      5114                   Fullmetal Alchemist: Brotherhood   \n",
       "2          2     28977                                           Gintama°   \n",
       "3          3      9253                                        Steins;Gate   \n",
       "4          4      9969                                      Gintama&#039;   \n",
       "...      ...       ...                                                ...   \n",
       "12205  12289      9316       Toushindai My Lover: Minami tai Mecha-Minami   \n",
       "12206  12290      5543                                        Under World   \n",
       "12207  12291      5621                     Violence Gekiga David no Hoshi   \n",
       "12208  12292      6133  Violence Gekiga Shin David no Hoshi: Inma Dens...   \n",
       "12209  12293     26081                   Yasuji no Pornorama: Yacchimae!!   \n",
       "\n",
       "                                                   genre   type  \\\n",
       "0                   Drama, Romance, School, Supernatural  Movie   \n",
       "1      Action, Adventure, Drama, Fantasy, Magic, Mili...     TV   \n",
       "2      Action, Comedy, Historical, Parody, Samurai, S...     TV   \n",
       "3                                       Sci-Fi, Thriller     TV   \n",
       "4      Action, Comedy, Historical, Parody, Samurai, S...     TV   \n",
       "...                                                  ...    ...   \n",
       "12205                                             Hentai    OVA   \n",
       "12206                                             Hentai    OVA   \n",
       "12207                                             Hentai    OVA   \n",
       "12208                                             Hentai    OVA   \n",
       "12209                                             Hentai  Movie   \n",
       "\n",
       "                                              genre_type  \n",
       "0            Drama, Romance, School, Supernatural, Movie  \n",
       "1      Action, Adventure, Drama, Fantasy, Magic, Mili...  \n",
       "2      Action, Comedy, Historical, Parody, Samurai, S...  \n",
       "3                                   Sci-Fi, Thriller, TV  \n",
       "4      Action, Comedy, Historical, Parody, Samurai, S...  \n",
       "...                                                  ...  \n",
       "12205                                        Hentai, OVA  \n",
       "12206                                        Hentai, OVA  \n",
       "12207                                        Hentai, OVA  \n",
       "12208                                        Hentai, OVA  \n",
       "12209                                      Hentai, Movie  \n",
       "\n",
       "[12210 rows x 6 columns]"
      ]
     },
     "execution_count": 288,
     "metadata": {},
     "output_type": "execute_result"
    }
   ],
   "source": [
    "new_anime"
   ]
  },
  {
   "cell_type": "code",
   "execution_count": 289,
   "metadata": {},
   "outputs": [],
   "source": [
    "by_type_genre = cv.fit_transform(new_anime['genre_type'])"
   ]
  },
  {
   "cell_type": "code",
   "execution_count": 290,
   "metadata": {},
   "outputs": [],
   "source": [
    "coScore_anime_3 = cosine_similarity(by_type_genre)"
   ]
  },
  {
   "cell_type": "code",
   "execution_count": 291,
   "metadata": {},
   "outputs": [
    {
     "name": "stdout",
     "output_type": "stream",
     "text": [
      "['action', 'adventure', 'cars', 'comedy', 'dementia', 'demons', 'drama', 'ecchi', 'fantasy', 'game', 'harem', 'hentai', 'historical', 'horror', 'josei', 'kids', 'magic', 'martial arts', 'mecha', 'military', 'movie', 'music', 'mystery', 'ona', 'ova', 'parody', 'police', 'psychological', 'romance', 'samurai', 'school', 'sci-fi', 'seinen', 'shoujo', 'shoujo ai', 'shounen', 'shounen ai', 'slice of life', 'space', 'special', 'sports', 'super power', 'supernatural', 'thriller', 'tv', 'vampire', 'yaoi', 'yuri']\n"
     ]
    }
   ],
   "source": [
    "print(cv.get_feature_names())"
   ]
  },
  {
   "cell_type": "code",
   "execution_count": 297,
   "metadata": {},
   "outputs": [
    {
     "name": "stdout",
     "output_type": "stream",
     "text": [
      "Apa anime yang anda sukai? Kimi no Na wa.\n",
      "Special Pick For You!\n",
      "1. Kimi no Na wa., (Genre : Drama, Romance, School, Supernatural, Type: Movie)\n",
      "2. Aura: Maryuuin Kouga Saigo no Tatakai, (Genre : Comedy, Drama, Romance, School, Supernatural, Type: Movie)\n",
      "3. Kokoro ga Sakebitagatterunda., (Genre : Drama, Romance, School, Type: Movie)\n",
      "4. Harmonie, (Genre : Drama, School, Supernatural, Type: Movie)\n",
      "5. Air Movie, (Genre : Drama, Romance, Supernatural, Type: Movie)\n",
      "6. Hotarubi no Mori e, (Genre : Drama, Romance, Shoujo, Supernatural, Type: Movie)\n",
      "7. &quot;Bungaku Shoujo&quot; Movie, (Genre : Drama, Mystery, Romance, School, Type: Movie)\n",
      "8. Clannad Movie, (Genre : Drama, Fantasy, Romance, School, Type: Movie)\n",
      "9. Tetsuwan Atom: Atom Tanjou no Himitsu, (Genre : Drama, Mecha, Sci-Fi, Type: Movie)\n",
      "10. Amanatsu, (Genre : Sci-Fi, Type: Movie)\n",
      "11. Diabolik Lovers More,Blood, (Genre : Harem, School, Shoujo, Vampire, Type: TV)\n",
      "12. Joshikousei no Koshitsuki, (Genre : Hentai, Type: OVA)\n",
      "13. Momo e no Tegami, (Genre : Drama, Supernatural, Type: Movie)\n",
      "14. Zutto Mae kara Suki deshita.: Kokuhaku Jikkou Iinkai, (Genre : Romance, School, Type: Movie)\n",
      "15. Taiko no Tatsujin, (Genre : Game, Type: TV)\n",
      "16. Tokyo Disney Resort: Yume ga Kanau Basho, (Genre : Slice of Life, Type: Special)\n",
      "17. Sekai Meisaku Douwa Series, (Genre : Adventure, Fantasy, Historical, Kids, Magic, Supernatural, Type: TV)\n",
      "18. Orange: Mirai, (Genre : Drama, Romance, School, Sci-Fi, Shoujo, Type: Movie)\n",
      "19. Takanashi Rikka Kai: Chuunibyou demo Koi ga Shitai! Movie, (Genre : Comedy, Drama, Romance, School, Slice of Life, Type: Movie)\n",
      "20. Binbou Shimai Monogatari, (Genre : Comedy, Drama, Seinen, Slice of Life, Type: TV)\n"
     ]
    }
   ],
   "source": [
    "anime_liked = input('Apa anime yang anda sukai? ')\n",
    "\n",
    "index_suka = new_anime[new_anime['name']==anime_liked].index\n",
    "index_suka[0]\n",
    "\n",
    "anime_recom = list(enumerate(coScore_anime_3[index_suka[0]]))\n",
    "\n",
    "your_recom = sorted(anime_recom, key = lambda x: x[1], reverse=True)\n",
    "\n",
    "# Showing 5 recommended music based on the input music\n",
    "recom = []\n",
    "for i in your_recom[:20]:\n",
    "    recom.append(new_anime.iloc[i[0]][0])\n",
    "\n",
    "print('Special Pick For You!')\n",
    "for i in range(len(recom)):\n",
    "    print('{}. {}, (Genre : {}, Type: {})'.format(1+i, new_anime.iloc[recom[i], 2],new_anime.iloc[recom[i], 3],\n",
    "                                               new_anime.iloc[recom[i], 4]))"
   ]
  },
  {
   "cell_type": "code",
   "execution_count": 304,
   "metadata": {},
   "outputs": [
    {
     "name": "stdout",
     "output_type": "stream",
     "text": [
      "Apa anime yang anda sukai? Naruto\n",
      "Special Pick For You!\n",
      "1. Naruto: Shippuuden, (Genre : Action, Comedy, Martial Arts, Shounen, Super Power, Type: TV)\n",
      "2. Naruto, (Genre : Action, Comedy, Martial Arts, Shounen, Super Power, Type: TV)\n",
      "3. Katekyo Hitman Reborn!, (Genre : Action, Comedy, Shounen, Super Power, Type: TV)\n",
      "4. Dragon Ball Z, (Genre : Action, Adventure, Comedy, Fantasy, Martial Arts, Shounen, Super Power, Type: TV)\n",
      "5. Dragon Ball Kai (2014), (Genre : Action, Adventure, Comedy, Fantasy, Martial Arts, Shounen, Super Power, Type: TV)\n",
      "6. Dragon Ball Kai, (Genre : Action, Adventure, Comedy, Fantasy, Martial Arts, Shounen, Super Power, Type: TV)\n",
      "7. Medaka Box Abnormal, (Genre : Action, Comedy, Ecchi, Martial Arts, School, Shounen, Super Power, Type: TV)\n",
      "8. Dragon Ball Super, (Genre : Action, Adventure, Comedy, Fantasy, Martial Arts, Shounen, Super Power, Type: TV)\n",
      "9. Medaka Box, (Genre : Action, Comedy, Ecchi, Martial Arts, School, Shounen, Super Power, Type: TV)\n",
      "10. Tistou Midori no Oyayubi, (Genre : Historical, Magic, Type: Movie)\n",
      "11. Boku no Hero Academia, (Genre : Action, Comedy, School, Shounen, Super Power, Type: TV)\n",
      "12. Shijou Saikyou no Deshi Kenichi, (Genre : Action, Comedy, Martial Arts, School, Shounen, Type: TV)\n",
      "13. Boruto: Naruto the Movie, (Genre : Action, Comedy, Martial Arts, Shounen, Super Power, Type: Movie)\n",
      "14. Bleach, (Genre : Action, Comedy, Shounen, Super Power, Supernatural, Type: TV)\n",
      "15. Boruto: Naruto the Movie - Naruto ga Hokage ni Natta Hi, (Genre : Action, Comedy, Martial Arts, Shounen, Super Power, Type: Special)\n",
      "16. Naruto x UT, (Genre : Action, Comedy, Martial Arts, Shounen, Super Power, Type: OVA)\n",
      "17. Naruto: Shippuuden Movie 4 - The Lost Tower, (Genre : Action, Comedy, Martial Arts, Shounen, Super Power, Type: Movie)\n",
      "18. Sakigake!! Otokojuku, (Genre : Action, Comedy, Martial Arts, School, Shounen, Type: TV)\n",
      "19. Naruto: Shippuuden Movie 3 - Hi no Ishi wo Tsugu Mono, (Genre : Action, Comedy, Martial Arts, Shounen, Super Power, Type: Movie)\n",
      "20. Rekka no Honoo, (Genre : Action, Adventure, Martial Arts, Shounen, Super Power, Type: TV)\n"
     ]
    }
   ],
   "source": [
    "anime_liked = input('Apa anime yang anda sukai? ')\n",
    "\n",
    "index_suka = new_anime[new_anime['name']==anime_liked].index\n",
    "index_suka[0]\n",
    "\n",
    "anime_recom = list(enumerate(coScore_anime_3[index_suka[0]]))\n",
    "\n",
    "your_recom = sorted(anime_recom, key = lambda x: x[1], reverse=True)\n",
    "\n",
    "# Showing 5 recommended music based on the input music\n",
    "recom = []\n",
    "for i in your_recom[:20]:\n",
    "    recom.append(new_anime.iloc[i[0]][0])\n",
    "\n",
    "print('Special Pick For You!')\n",
    "for i in range(len(recom)):\n",
    "    print('{}. {}, (Genre : {}, Type: {})'.format(1+i, new_anime.iloc[recom[i], 2],new_anime.iloc[recom[i], 3],\n",
    "                                               new_anime.iloc[recom[i], 4]))"
   ]
  },
  {
   "cell_type": "code",
   "execution_count": null,
   "metadata": {},
   "outputs": [],
   "source": []
  }
 ],
 "metadata": {
  "kernelspec": {
   "display_name": "Python 3",
   "language": "python",
   "name": "python3"
  },
  "language_info": {
   "codemirror_mode": {
    "name": "ipython",
    "version": 3
   },
   "file_extension": ".py",
   "mimetype": "text/x-python",
   "name": "python",
   "nbconvert_exporter": "python",
   "pygments_lexer": "ipython3",
   "version": "3.8.3"
  }
 },
 "nbformat": 4,
 "nbformat_minor": 4
}
